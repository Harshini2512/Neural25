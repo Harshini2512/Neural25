{
  "nbformat": 4,
  "nbformat_minor": 0,
  "metadata": {
    "colab": {
      "provenance": []
    },
    "kernelspec": {
      "name": "python3",
      "display_name": "Python 3"
    },
    "language_info": {
      "name": "python"
    }
  },
  "cells": [
    {
      "cell_type": "code",
      "execution_count": 21,
      "metadata": {
        "colab": {
          "base_uri": "https://localhost:8080/"
        },
        "id": "-fifaiTMpNfp",
        "outputId": "fb927cf0-90d8-4d11-c1ea-24b72d3e456c"
      },
      "outputs": [
        {
          "output_type": "stream",
          "name": "stdout",
          "text": [
            "Enter your first name: harsha\n",
            "Enter your last name: rao\n",
            "Full Name: harsha rao\n"
          ]
        }
      ],
      "source": [
        "def fullname(first_name, last_name):\n",
        "    return f\"{first_name} {last_name}\"\n",
        "\n",
        "                 # Taking user input\n",
        "first_name = input(\"Enter your first name: \")\n",
        "last_name = input(\"Enter your last name: \")\n",
        "\n",
        "             # Calling the fullname function\n",
        "full_name = fullname(first_name, last_name)\n",
        "\n",
        "               # Displaying the result\n",
        "print(\"Full Name:\", full_name)"
      ]
    },
    {
      "cell_type": "code",
      "source": [
        "def string_alternative(full_name):\n",
        "    return full_name[::2]\n",
        "\n",
        "# Example usage with the provided string \"Good evening\"\n",
        "example_str = \"Good Morning\"\n",
        "result = string_alternative(example_str)\n",
        "\n",
        "# Displaying the result\n",
        "print(\"Original String:\", example_str)\n",
        "print(\"Every Other Character:\", result)"
      ],
      "metadata": {
        "colab": {
          "base_uri": "https://localhost:8080/"
        },
        "id": "gS6nQBwDpXc1",
        "outputId": "2a05a54d-422d-4ef6-829e-76bfdd6d0690"
      },
      "execution_count": 20,
      "outputs": [
        {
          "output_type": "stream",
          "name": "stdout",
          "text": [
            "Original String: Good Morning\n",
            "Every Other Character: Go onn\n"
          ]
        }
      ]
    },
    {
      "cell_type": "code",
      "source": [
        "\n",
        "def wordCount():\n",
        "    file1=open(\"input.txt\",\"r\")\n",
        "    file2=open(\"output.txt\",\"w\")\n",
        "    count={}\n",
        "    for line in file1:\n",
        "        w=line.strip().split(\" \")\n",
        "        for i in w:\n",
        "            if(i in count):\n",
        "                count[i]=count[i]+1\n",
        "            else:\n",
        "                 count[i]=1\n",
        "    for i in count:\n",
        "        file2.write(i+ \": \"+str (count[i]));\n",
        "        file2.write(\"\\n\")\n",
        "    print(count)\n",
        "\n",
        "        # count[l]\n",
        "\n",
        "\n",
        "wordCount()"
      ],
      "metadata": {
        "colab": {
          "base_uri": "https://localhost:8080/"
        },
        "id": "kUO2o5hZqaql",
        "outputId": "2f376e09-265f-43ba-8791-121d006c7f07"
      },
      "execution_count": 18,
      "outputs": [
        {
          "output_type": "stream",
          "name": "stdout",
          "text": [
            "{'Bettys': 1, 'better': 1, 'bitter': 1, 'butter': 1, 'batter': 1}\n"
          ]
        }
      ]
    },
    {
      "cell_type": "code",
      "source": [
        "def inches_to_centimeters(height_in_inches):\n",
        "    return height_in_inches * 2.54\n",
        "\n",
        "# Using Nested Interactive Loop\n",
        "def convert_heights_nested_loop():\n",
        "    num_customers = int(input(\"Enter the number of customers: \"))\n",
        "    heights_inches = []\n",
        "\n",
        "    # Input heights in inches\n",
        "    for i in range(num_customers):\n",
        "        height = float(input(f\"Enter height (in inches) for customer {i + 1}: \"))\n",
        "        heights_inches.append(height)\n",
        "\n",
        "    # Convert heights to centimeters using nested loop\n",
        "    heights_centimeters = []\n",
        "    for height_in_inches in heights_inches:\n",
        "        height_in_cm = inches_to_centimeters(height_in_inches)\n",
        "        heights_centimeters.append(height_in_cm)\n",
        "\n",
        "    return heights_centimeters\n",
        "\n",
        "# Using List Comprehensions\n",
        "def convert_heights_list_comprehension():\n",
        "    num_customers = int(input(\"Enter the number of customers: \"))\n",
        "\n",
        "    # Input heights in inches using list comprehension\n",
        "    heights_inches = [float(input(f\"Enter height (in inches) for customer {i + 1}: \")) for i in range(num_customers)]\n",
        "\n",
        "    # Convert heights to centimeters using list comprehension\n",
        "    heights_centimeters = [inches_to_centimeters(height_in_inches) for height_in_inches in heights_inches]\n",
        "\n",
        "    return heights_centimeters\n",
        "\n",
        "# Example using Nested Interactive Loop\n",
        "print(\"Using Nested Interactive Loop:\")\n",
        "heights_nested_loop = convert_heights_nested_loop()\n",
        "print(\"Heights in Centimeters:\", heights_nested_loop)\n",
        "\n",
        "# Example using List Comprehensions\n",
        "print(\"\\nUsing List Comprehensions:\")\n",
        "heights_list_comprehension = convert_heights_list_comprehension()\n",
        "print(\"Heights in Centimeters:\", heights_list_comprehension)"
      ],
      "metadata": {
        "colab": {
          "base_uri": "https://localhost:8080/"
        },
        "id": "tQ5SFKJlrfrx",
        "outputId": "012b8596-61c4-40aa-ac93-9d674c0201c2"
      },
      "execution_count": 10,
      "outputs": [
        {
          "output_type": "stream",
          "name": "stdout",
          "text": [
            "Using Nested Interactive Loop:\n",
            "Enter the number of customers: 3\n",
            "Enter height (in inches) for customer 1: 45\n",
            "Enter height (in inches) for customer 2: 54\n",
            "Enter height (in inches) for customer 3: 43\n",
            "Heights in Centimeters: [114.3, 137.16, 109.22]\n",
            "\n",
            "Using List Comprehensions:\n",
            "Enter the number of customers: 2\n",
            "Enter height (in inches) for customer 1: 23\n",
            "Enter height (in inches) for customer 2: 23\n",
            "Heights in Centimeters: [58.42, 58.42]\n"
          ]
        }
      ]
    }
  ]
}